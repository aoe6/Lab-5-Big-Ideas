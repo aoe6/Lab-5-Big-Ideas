{
 "cells": [
  {
   "cell_type": "code",
   "execution_count": 5,
   "metadata": {},
   "outputs": [
    {
     "name": "stdin",
     "output_type": "stream",
     "text": [
      "Enter a word:  BooleanBeLike\n",
      "Enter another word:  UHHHHHHHHHHHHHHHH\n"
     ]
    },
    {
     "name": "stdout",
     "output_type": "stream",
     "text": [
      "BooleanBeLike\n",
      "UHHHHHHHHHHHHHHHH\n",
      "BooleanBeLike\n",
      "UHHHHHHHHHHHHHHHH\n",
      "BooleanBeLike\n",
      "UHHHHHHHHHHHHHHHH\n",
      "BooleanBeLike\n",
      "UHHHHHHHHHHHHHHHH\n",
      "BooleanBeLike\n",
      "UHHHHHHHHHHHHHHHH\n"
     ]
    }
   ],
   "source": [
    "  inputOne = input(\"Enter a word: \")\n",
    "  inputTwo = input(\"Enter another word: \")\n",
    "  count = 0\n",
    "  \n",
    "  while count < 10:\n",
    "    if count % 2 == 0:\n",
    "      print(inputOne)\n",
    "    else:\n",
    "      print(inputTwo)\n",
    "    count+=1"
   ]
  }
 ],
 "metadata": {
  "kernelspec": {
   "display_name": "Python 3",
   "language": "python",
   "name": "python3"
  },
  "language_info": {
   "codemirror_mode": {
    "name": "ipython",
    "version": 3
   },
   "file_extension": ".py",
   "mimetype": "text/x-python",
   "name": "python",
   "nbconvert_exporter": "python",
   "pygments_lexer": "ipython3",
   "version": "3.8.3"
  }
 },
 "nbformat": 4,
 "nbformat_minor": 4
}
